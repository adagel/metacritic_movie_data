{
 "cells": [
  {
   "cell_type": "code",
   "execution_count": 31,
   "metadata": {},
   "outputs": [
    {
     "name": "stdout",
     "output_type": "stream",
     "text": [
      "status - good\n",
      "fetched 345722 characters from https://www.metacritic.com/browse/movie/all/all/1999/metascore/?page=1\n"
     ]
    }
   ],
   "source": [
    "import urllib3\n",
    "import certifi\n",
    "import re\n",
    "\n",
    "#fetch the HTML from the year 1999 from the Metacritic site and reports what is fetched\n",
    "link = f\"https://www.metacritic.com/browse/movie/all/all/1999/metascore/?page=1\"\n",
    "http = urllib3.PoolManager(ca_certs=certifi.where())\n",
    "response = http.request('GET', link, headers={'User-Agent': 'Mozilla/5.0'})\n",
    "datastring = str(response.data, \"utf-8\")\n",
    "if response.status == 200: \n",
    "    print (f\"status - good\")\n",
    "elif response.status != 200:\n",
    "    print (\"status - not good\")\n",
    "print(f\"fetched {len(datastring)} characters from {link}\")"
   ]
  },
  {
   "cell_type": "code",
   "execution_count": 32,
   "metadata": {},
   "outputs": [
    {
     "name": "stdout",
     "output_type": "stream",
     "text": [
      "['Beau Travail', 'Topsy-Turvy', 'My Voyage to Italy', 'Being John Malkovich', 'Toy Story 2', 'The Wind Will Carry Us', 'All About My Mother', \"Boys Don't Cry\", 'The Straight Story', 'The Iron Giant', 'The Insider', 'American Movie', 'American Beauty', 'Voyages', 'Election', 'One Day in September', 'Three Kings', 'The Blair Witch Project', 'Buena Vista Social Club', 'On the Ropes', 'Set Me Free', 'The Color of Paradise', 'Human Resources', 'Spring Forward']\n"
     ]
    }
   ],
   "source": [
    "#movie titles\n",
    "titles = re.findall('div data-title=\"(.*?)\"',datastring)\n",
    "print (f\"{titles}\")"
   ]
  },
  {
   "cell_type": "code",
   "execution_count": 33,
   "metadata": {},
   "outputs": [
    {
     "name": "stdout",
     "output_type": "stream",
     "text": [
      "['Mar 31, 2000', 'Dec 17, 1999', 'Oct 19, 2001', 'Oct 29, 1999', 'Nov 24, 1999', 'Jul 28, 2000', 'Nov 19, 1999', 'Oct 8, 1999', 'Oct 15, 1999', 'Aug 6, 1999', 'Nov 5, 1999', 'Nov 5, 1999', 'Sep 15, 1999', 'Jan 26, 2001', 'Apr 23, 1999', 'Nov 17, 2000', 'Oct 1, 1999', 'Jul 16, 1999', 'Jun 4, 1999', 'Sep 24, 1999', 'Apr 14, 2000', 'Mar 24, 2000', 'Sep 15, 2000', 'Dec 1, 2000']\n"
     ]
    }
   ],
   "source": [
    "#release date\n",
    "release_date =  re.findall(r'<span class=\"u-text-uppercase\">\\s+(.*)\\s+<\\/span>',datastring)\n",
    "print (f\"{release_date}\")"
   ]
  },
  {
   "cell_type": "code",
   "execution_count": 34,
   "metadata": {},
   "outputs": [
    {
     "name": "stdout",
     "output_type": "stream",
     "text": [
      "['91', '90', '90', '90', '88', '87', '87', '86', '86', '85', '84', '84', '84', '83', '83', '82', '82', '81', '81', '80', '80', '80', '80', '79']\n"
     ]
    }
   ],
   "source": [
    "#Metascore\n",
    "score = re.findall(r'<div title=\"Metascore (..) out of 100\"',datastring)\n",
    "print (f\"{score}\")"
   ]
  },
  {
   "cell_type": "code",
   "execution_count": 35,
   "metadata": {},
   "outputs": [
    {
     "name": "stdout",
     "output_type": "stream",
     "text": [
      "['https://www.metacritic.com/a/img/resize/2ba44dceac2669b4420f2391db9c74aa8f8a87c4/catalog/provider/2/2/2-c048139b57b4b0d56bdc83c507a5f38d.jpg?auto=webp&amp;fit=cover&amp;height=132&amp;width=88', 'https://www.metacritic.com/a/img/resize/b3b363d6cd628ebaaa444c841933a6591da1f6e3/catalog/provider/2/2/2-58ada4590b01f51bdece8e5fbfd13c8d.jpg?auto=webp&amp;fit=cover&amp;height=132&amp;width=88', 'https://www.metacritic.com/a/img/resize/20f85a3ecd91dba80a5c0cf76a6314e607f16040/catalog/provider/2/2/2-b98ac576ec8d5c7d85bf2ed8a677e1ea.jpg?auto=webp&amp;fit=cover&amp;height=132&amp;width=88', 'https://www.metacritic.com/a/img/resize/a10dba645aed684ad67c214d77d3e93f235195f0/catalog/provider/2/2/2-06b1f7c1105c58d1f9922994c95a2a80.jpg?auto=webp&amp;fit=cover&amp;height=132&amp;width=88', 'https://www.metacritic.com/a/img/resize/5df6e662607faf88b1ad2875bd596b6e7bdc9e7e/catalog/provider/2/2/2-f203720668d2f25f6ec6430228c64e18.jpg?auto=webp&amp;fit=cover&amp;height=132&amp;width=88', 'https://www.metacritic.com/a/img/resize/7c1c1ff0d911ddac54b288d82f48f4d2bb4d51f0/catalog/provider/2/2/2-dda5e13a1d541f48a2c6681d6b5ef847.jpg?auto=webp&amp;fit=cover&amp;height=132&amp;width=88', 'https://www.metacritic.com/a/img/resize/bd3ba728c5dc79fce90c0d242b9795eda4fa9aaf/catalog/provider/2/2/2-9e2d623f5ef1dc42ec1f6828e2ecfc50.jpg?auto=webp&amp;fit=cover&amp;height=132&amp;width=88', 'https://www.metacritic.com/a/img/resize/5c035681a2d6f78602afdfc1645e1a47b4343997/catalog/provider/2/2/2-c7f469df41cfbe06093a488b1537ca1d.jpg?auto=webp&amp;fit=cover&amp;height=132&amp;width=88', 'https://www.metacritic.com/a/img/resize/b2039ff092a5eaa1ff455a19951fd648f1d29daf/catalog/provider/2/2/2-f72053b9732a2a96f8ba156ce410719b.jpg?auto=webp&amp;fit=cover&amp;height=132&amp;width=88', 'https://www.metacritic.com/a/img/resize/4354f9e65a4658e069a04e3b6408e1656ce3798f/catalog/provider/2/2/2-45ac1ed9c3176eb53c94aff477c89088.jpg?auto=webp&amp;fit=cover&amp;height=132&amp;width=88', 'https://www.metacritic.com/a/img/resize/e0e4f5ce148500b3174df4d0ca18e7212f96b2a3/catalog/provider/2/2/2-eef356c24f16542e5f4082a1deeef432.jpg?auto=webp&amp;fit=cover&amp;height=132&amp;width=88', 'https://www.metacritic.com/a/img/resize/33c7732c76a8d18b9285a473b6c9f3035abcca3f/catalog/provider/2/2/2-4f036948be4972a9bef6ba207ed96a43.jpg?auto=webp&amp;fit=cover&amp;height=132&amp;width=88', 'https://www.metacritic.com/a/img/resize/d752112e3a4f9fc28a39e26e7f57eef8dca6e13c/catalog/provider/2/2/2-3a973fb034a16d712346da1207359b36.jpg?auto=webp&amp;fit=cover&amp;height=132&amp;width=88', 'https://www.metacritic.com/a/img/resize/ef91c43300e624fda74459c61d4f12a0b7a64667/catalog/provider/2/2/2-bba32343ca9db3cd15d7048ee27b067c.jpg?auto=webp&amp;fit=cover&amp;height=132&amp;width=88', 'https://www.metacritic.com/a/img/resize/5deb95be4d5a268106ebe418c1c40a75a4c5c44f/catalog/provider/2/2/2-8d88759434c300a7da93cd065fd8d607.jpg?auto=webp&amp;fit=cover&amp;height=132&amp;width=88', 'https://www.metacritic.com/a/img/resize/311c566c05261b736e96ff047b98ab7f039a2c8d/catalog/provider/2/2/2-daf0a6e81711a41605ea0d523c91d37a.jpg?auto=webp&amp;fit=cover&amp;height=132&amp;width=88', 'https://www.metacritic.com/a/img/resize/8be213f092d951a2ace1fe94810156a2352e2de6/catalog/provider/2/2/2-466fbc34fee058ae96bbd5cb0a24b091.jpg?auto=webp&amp;fit=cover&amp;height=132&amp;width=88', 'https://www.metacritic.com/a/img/resize/da314670667ab34cae2c1345d759bbc16e9b4fe2/catalog/provider/2/2/2-de78dcdccb7ecba8d8357926bd3a2392.jpg?auto=webp&amp;fit=cover&amp;height=132&amp;width=88', 'https://www.metacritic.com/a/img/resize/39e4a4c2ae3f395af63f53d5266fc7e9913f18a3/catalog/provider/2/2/2-cf9b6d023f89407dafe5605b5a95d5aa.jpg?auto=webp&amp;fit=cover&amp;height=132&amp;width=88', 'https://www.metacritic.com/a/img/resize/094c1aa0a54fa3535fc322a25fb8ec91f3214682/catalog/provider/2/2/2-29c226e35188279492def6f6ea3cd6ac.jpg?auto=webp&amp;fit=cover&amp;height=132&amp;width=88', 'https://www.metacritic.com/a/img/resize/aaf247d8344750810d49fce2cc4e16aab7f58081/catalog/provider/2/2/2-3e08d4c5e288cb8fc3b21dd79932f376.jpg?auto=webp&amp;fit=cover&amp;height=132&amp;width=88', 'https://www.metacritic.com/a/img/resize/26c174b8cff7704d38670493132b17ef8f15bf23/catalog/provider/2/2/2-73cf5008769b692ed23707bd4a8daf6b.jpg?auto=webp&amp;fit=cover&amp;height=132&amp;width=88', 'https://www.metacritic.com/a/img/resize/9f642c1a6c0ad0960b8948aeba83d5183d3515bf/catalog/provider/2/2/2-401f7997cdd188dd97bf9d5e62892f8c.jpg?auto=webp&amp;fit=cover&amp;height=132&amp;width=88', 'https://www.metacritic.com/a/img/resize/c98693227302864166657218180765717c4fbb76/catalog/provider/2/2/2-672ef7eb6e1551f48dcfdb6ed1cbfa17.jpg?auto=webp&amp;fit=cover&amp;height=132&amp;width=88']\n"
     ]
    }
   ],
   "source": [
    "#image search\n",
    "thumbnails = re.findall(r'<picture class=\"c-cmsImage\"> <img src=\"(.*?)\"',datastring)\n",
    "print (thumbnails)\n",
    "\n",
    "for url in thumbnails:\n",
    "    url = url.replace(\"&amp;\", \"&\")"
   ]
  },
  {
   "cell_type": "code",
   "execution_count": 36,
   "metadata": {},
   "outputs": [
    {
     "name": "stdout",
     "output_type": "stream",
     "text": [
      "['The soldiers of a small French Foreign Legion outpost spend their days practicing  drills and exercising.  Sergeant Galoup seems to be the perfect Legionnaire: a brooding, young loner who runs his troop efficiently until Sentain, a new recruit, arrives and threatens to upset the balance of his world.', 'When their latest play fails and they threaten to disband, Gilbert and Sullivan are inspired to create their masterpiece, &quot;The Mikado.&quot;          ', \"A four-hour odyssey through the history of Italian cinema and its influences on Scorsese's work.\", 'An out-of-work puppeteer takes a filing clerk job on the cramped 7 ½ floor of an office building where he discovers a hidden tunnel allowing him to enter the mind and life of actor John Malkovich for 15 mintues before being ejected onto the New Jersey Turnpike.', \"The sequel to the landmark 1995 computer-animated blockbuster from Disney and Pixar.  This time around, the fun and adventure continue when Andy goes off to cowboy camp and the toys are left to their own devices.  Things shift into high gear when an obsessive toy collector kidnaps Woody -- who hasn't the slightest clue that he's a greatly valued collectible.  (Disney/Pixar)\", 'With a strange mission, a group of people from the city come to a small village in Iran.  They are awaiting the death of a 100+ year old woman, while pretending to be communication engineers.', \"This is the story of a mother (Roth) recovering from the death of her teenage son.  She travels to Barcelona to find her son's father and  revisits many places of her youth. \", \"Based on a true story, Brandon Teena (Swank) is the popular new &quot;guy&quot; in a tiny Nebraska town and falls in love with local girl Lana (Sevigny).  When it is revealed that Brandon is actually a woman, Lana's family and friends put Brandon's life in jeopardy. \", 'The true story of Alvin Straight (Farnsworth) who rides his 1961 lawnmower from Laurens, Iowa, to Mt. Zion, Wisconsin, to visit his estranged brother after the latter suffers a stroke.', 'A giant metal machine falls to Earth in 1950s Maine, frightening townspeople.  However, the robot befriends a nine-year-old boy named Hogarth who must save it from the predjudices of the townspeople and from a government agent intent on destroying the robot.', 'This is the true story of Jeffrey Wigand (Crowe), the tobacco executive-turned-whistleblower and his relationship with &quot;60 Minutes&quot; producer Lowell Bergman (Pacino).', 'The story of Mark Borchardt, the ultimate independent filmmaker from Wisconsin, who attempts to raise money to finish &quot;Coven,&quot; his short film, in order to have the funds to produce his next vision.  Borchardt relies on his best friend and his mother to fill many roles in the process including acting and camera operating, and he even convinces his old Uncle Bill to invest in his film.', \"Provoked by forbidden passions, Lester Burnham (Spacey) decides to make a few changes in his rut of a life, changes that are less midlife crisis than adolescence reborn. The freer he gets, the happier he gets, which is even more maddening to his wife, Carolyn (Bening), and daughter Jane (Birch) --especially when he turns his lustful gaze toward Jane's friend, the sultry Angela (Suvari).  (Dreamworks SKG)\", 'Explores the stories of three Jewish women whose lives were forever altered by the Holocaust.  ', 'This satirical comedy uses a high school election as the backdrop to take an uncommon look at ambition, morality, desire, love and the lies we never cease telling ourselves.  [Paramount Pictures]', 'This documentary examines the events surrounding the 1972 Olympics in Munich, Germany, where eleven Israeli athletes were kidnapped and massacred by Palestinian terrorists.', 'A small group of adventurous American soldiers (Clooney, Whalberg, Ice Cube, Jonze) in Iraq at the end of the Gulf War is determined to steal a huge cache of gold reputed to be hidden somewhere near their desert base.  Finding a map they believe will take them to the gold, the soldiers embark on a journey that leads to unexpected discoveries, enabling them to rise to a heroic challenge that drastically changes their lives. (Warner Brothers)', \"On October 21, 1994, Heather Donahue, Joshua Leonard and Michael Williams hiked into Maryland's Black Hills Forest to shoot a documentary film on a local legend, The Blair Witch.  They were never heard from again.  One year later, their footage was found.  The Blair Witch Project is their legacy.  [Artisan Entertainment]\", 'This ground-breaking documentary, inspired by the album, includes appearances by legendary performers Ry &amp; Joaquim Cooder, Ibrahim Ferrer, Ruben Gonzáles, Eliades Ochoa, Omara Portuondo, Compay Segundo and many other renowned Cuban Musicians.  (Artisan Entertainment)', 'A documentary highlighting three young boxers from the mean streets of Brooklyn and their coach as they prepare for the 1997 Golden Gloves Tournament, giving equal attention to their experiences in and out of the ring.', \"Set in 1963 Montreal, Lea Pool's coming-of-age story examines the life of a 13-year-old girl (Vanasse) who escapes her life as the illegitimate daughter of a struggling Jewish writer and a Catholic seamstress through her love of films.  She adopts an unlikely role model in the prostitute heroine of Godard's &quot;Vivre sa vie.&quot;\", 'The story of an active 8 year-old blind boy who shows how he senses the world without sight.  The film also follows the progress of the father-son relationship after the death of the mother.', \"Franck (Lespert), a Parisian business school student, takes an internship in the Human Resources department at the factory where his father (Vallod) has labored for 30 years. Franck's efforts lead to the firing of many employees, including his father. [Shooting Gallery]\", \"Upon release from prison, a young man (Schreiber) begins working for a small town's park departmant.  He forms a friendship with a co-worker, an older man (Beatty). \"]\n"
     ]
    }
   ],
   "source": [
    "#description\n",
    "description = re.findall(r'<div class=\"c-finderProductCard_description\"><span>(.*?)<\\/span>',datastring)\n",
    "print (f\"{description}\")"
   ]
  }
 ],
 "metadata": {
  "kernelspec": {
   "display_name": "Python 3",
   "language": "python",
   "name": "python3"
  },
  "language_info": {
   "codemirror_mode": {
    "name": "ipython",
    "version": 3
   },
   "file_extension": ".py",
   "mimetype": "text/x-python",
   "name": "python",
   "nbconvert_exporter": "python",
   "pygments_lexer": "ipython3",
   "version": "3.11.5"
  },
  "orig_nbformat": 4
 },
 "nbformat": 4,
 "nbformat_minor": 2
}
